{
 "cells": [
  {
   "cell_type": "markdown",
   "metadata": {},
   "source": [
    "# Sprinklertechnicus 1, oplossen formules met 2 onbekenden\n",
    "Deze app gebruikt Python code, laat je niet afleiden door de code blokken\n",
    "\n",
    "1. Begin met het runnen van de alle code, klik hiervoor op de FastFoward pijltjes boven aan de pagina, en vervolgens de rode knop Restart. (Alternatief: Menu:Kernel > Restart & Run All)\n",
    "2. Pas de waarden aan in de cellen hieronder waar de variablen van de berekeningen staan. Er is aangegeven waar je dit kunt doen.\n",
    "3. Run de cel om uit te rekenen. Ctrl+Enter, of Run in de menubalk boven aan de pagina.\n",
    "Het is belangrijk de cellen in de juiste volgorde te runnen, van boven naar beneden.\n",
    "\n",
    "\n",
    "* Hazen Williams wordt gebruikt om het drukverlies te bepalen."
   ]
  },
  {
   "cell_type": "code",
   "execution_count": 1,
   "metadata": {},
   "outputs": [],
   "source": [
    "# -*- coding: utf-8 -*-\n",
    "\"\"\"\n",
    "Created on Wed Oct  2 17:46:23 2019\n",
    "@author: W. van Lipzig\n",
    "\"\"\"\n",
    "\n",
    "import math;\n",
    "def line():\n",
    "    print (\"\");\n",
    "'''\n",
    "Hazen Williams\n",
    "\n",
    "p = 6.05e5 * Q^1,85 / (C^1.85 * d^4.87) * L\n",
    "\n",
    "waarin:\n",
    "p is het drukverlies in de leiding, in bar;\n",
    "Q is het debiet door de leiding, in l/min;\n",
    "d is de gemiddelde inwendige diameter van de leiding, in mm;\n",
    "C is een constante voor de uitvoering en kwaliteit van de leiding (zie tabel 22);\n",
    "L is de equivalente lengte van de leiding en hulpstukken, in m.\n",
    "De waarden voor C zoals aangegeven in NEN 12854 tabel 22 moeten worden gebruikt\n",
    "'''\n",
    "'''\n",
    "Q = 400    #liter/minuut\n",
    "C = 120    #Ruwheidsconstante volgens Hazen-Williams\n",
    "d = 70.9   #Inwendige diamter van leiding\n",
    "L = 27.76  #Lengte van leiding in m\n",
    "'''\n",
    "\n",
    "def hazenw(Q, d, L = 1, C = 120):\n",
    "    P = 6.05e5 * Q**1.85 / (C**1.85 * d**4.87) * L;\n",
    "    unitBar = \"Bar\";\n",
    "    unitMbar = \"mBar\";\n",
    "    PmBar = round(P * 1000, 2);\n",
    "    if L == 1:\n",
    "        unitBar = \"Bar/meter\";  \n",
    "        unitMbar = \"mBar/meter\"; \n",
    "    \n",
    "\n",
    "    print(\"Q =\", Q, \"l/min, C =\",C ,\", d_inwendig =\",d, \"mm, L = \", L, \"m\")\n",
    "    print(\"P =\", round(P,3), unitBar,\"= \", round(PmBar,2),unitMbar);\n",
    "    return PmBar;"
   ]
  },
  {
   "cell_type": "markdown",
   "metadata": {},
   "source": [
    "\n",
    "\n",
    "$$p = \\frac{6.05*10^5 * Q^{1.85}}{C^{1.85}*d^{4.87}} $$\n"
   ]
  },
  {
   "cell_type": "markdown",
   "metadata": {},
   "source": [
    "\n",
    "\n",
    " |Nominale maat/uitw. |Verspanende Bewerking inwendige diameter |Niet verspanende Bewerking inwendige diameter |\n",
    " |---------------|:------:|:------:|\n",
    " |DN 25 (33,7)   |27,3  | 29,7 |\n",
    " |DN 32 (42,4)   |36,0  | 37,8 |\n",
    " |DN 40 (48,3)   |41,9  | 43,7 |\n",
    " |DN 50 (60,3)   |53,1  | 55,7 |\n",
    " |DN 65 (76,1)   |68,9  | 70,9 |\n",
    " |DN 80 (88,9)   |80,9  | 83,1 |\n",
    " |DN 100 (114,3) |105,3 | 107,9 |\n",
    " |DN 150 (168,3) |160,3 || \n",
    " |DN 200 (219,1) |210,1 ||\n",
    " |DN 250 (273,0) |263,0 ||"
   ]
  },
  {
   "cell_type": "markdown",
   "metadata": {},
   "source": [
    "# Drukverliesberekening\n",
    "\n",
    "## A -----DN_X_------- B -----DN_Y_------ C\n",
    "\n",
    "\n",
    "## Drukverlies over leidingdeel AB = dP_ab\n",
    "Vul voor de variabelen de getallen uit de opgave in.\n",
    "* Q vul je alleen een voor dp_ab omdat deze voor beide leidingdelen gelijk is.\n",
    "* zoek de inwendige diamter op in de tabel"
   ]
  },
  {
   "cell_type": "code",
   "execution_count": 2,
   "metadata": {},
   "outputs": [
    {
     "name": "stdout",
     "output_type": "stream",
     "text": [
      "Q = 1000 l/min, C = 120 , d_inwendig = 160.3 mm, L =  1 m\n",
      "P = 0.001 Bar/meter =  0.56 mBar/meter\n",
      "dP_ab = 0.56 mBar\n"
     ]
    }
   ],
   "source": [
    "#dP_ab\n",
    "\n",
    "Q = 1000    #liter/minuut\n",
    "C_x = 120    #Ruwheidsconstante volgens Hazen-Williams\n",
    "d_x = 160.3   #Inwendige diamter van leiding GEBRUIK . VOOR DECIMALEN KOMMA WERKT NIET\n",
    "L_x = 1  #Lengte van leiding in m\n",
    "\n",
    "################# Hieronder niets wijzigen ###########\n",
    "dP_ab = hazenw(Q, d_x, L_x, C_x)\n",
    "print (\"dP_ab =\", dP_ab, \"mBar\")\n"
   ]
  },
  {
   "cell_type": "markdown",
   "metadata": {},
   "source": [
    "## Drukverlies over leidingdeel AB = dP_ab\n",
    "Vul voor de variabelen de getallen uit de opgave in.\n",
    "* zoek de inwendige diamter op in de tabel"
   ]
  },
  {
   "cell_type": "code",
   "execution_count": 3,
   "metadata": {},
   "outputs": [
    {
     "name": "stdout",
     "output_type": "stream",
     "text": [
      "Q = 1000 l/min, C = 120 , d_inwendig = 107.9 mm, L =  1 m\n",
      "P = 0.004 Bar/meter =  3.84 mBar/meter\n",
      "dP_bc = 3.84 mBar\n"
     ]
    }
   ],
   "source": [
    "#dP_bc\n",
    "\n",
    "C_y = 120    #Ruwheidsconstante volgens Hazen-Williams\n",
    "d_y = 107.9   #Inwendige diamter van leiding GEBRUIK . VOOR DECIMALEN KOMMA WERKT NIET\n",
    "L_y = 1  #Lengte van leiding in m\n",
    "\n",
    "################# Hieronder niets wijzigen ###########\n",
    "dP_bc = hazenw(Q, d_y, L_y, C_y)\n",
    "print (\"dP_bc =\", dP_bc, \"mBar\")\n"
   ]
  },
  {
   "cell_type": "markdown",
   "metadata": {},
   "source": [
    "* Vul bij L_ac de lengte AC.\n",
    "                  "
   ]
  },
  {
   "cell_type": "code",
   "execution_count": 4,
   "metadata": {},
   "outputs": [
    {
     "name": "stdout",
     "output_type": "stream",
     "text": [
      "L_ab + L_bc = 200\n",
      "L_ab = ( 200 - L_bc )\n",
      "\n",
      "dp_ab * L_ab + dp_bc * L_bc = 500 mBar\n",
      "\n",
      "0.56 * L_ab + 3.84 * L_bc = 500 mBar\n",
      "0.56 * (200 - L_bc) + 3.84 * L_bc = 500 mBar\n",
      "112.00000000000001 - 0.56 L_bc + 3.84 L_bc = 500 mBar\n",
      "3.28 L_bc = 388.0 mBar\n",
      "L_bc = 118.293 meter\n"
     ]
    }
   ],
   "source": [
    "L_ac = 200 #meter\n",
    "\n",
    "\n",
    "################# Hieronder niets wijzigen ###########\n",
    "L_ab = \"L_ab\";\n",
    "L_bc = \"L_bc\";\n",
    "print (L_ab, \"+\", L_bc, \"=\", L_ac)\n",
    "print (L_ab, \"= (\", L_ac, \"-\", L_bc,\")\" )\n",
    "line();\n",
    "dp_max = 500;\n",
    "print (\"dp_ab * L_ab + dp_bc * L_bc =\", dp_max, \"mBar\")\n",
    "line();\n",
    "print (dP_ab, \"*\", L_ab, \"+\", dP_bc, \"*\", L_bc, \"=\", dp_max, \"mBar\")\n",
    "L_ab = \"(\"+ str(L_ac)+\" - \"+ L_bc +\")\";\n",
    "print (dP_ab, \"*\", L_ab, \"+\", dP_bc, \"*\", L_bc, \"=\", dp_max, \"mBar\")\n",
    "print (dP_ab * L_ac, \"-\", dP_ab, \"L_bc +\", dP_bc, L_bc, \"=\", dp_max, \"mBar\")\n",
    "print (dP_bc - dP_ab, L_bc, \"=\", dp_max - dP_ab * L_ac , \"mBar\")\n",
    "print (L_bc, \"=\", round((dp_max - dP_ab * L_ac)/(dP_bc - dP_ab),3), \"meter\" )\n"
   ]
  }
 ],
 "metadata": {
  "kernelspec": {
   "display_name": "Python 3",
   "language": "python",
   "name": "python3"
  },
  "language_info": {
   "codemirror_mode": {
    "name": "ipython",
    "version": 3
   },
   "file_extension": ".py",
   "mimetype": "text/x-python",
   "name": "python",
   "nbconvert_exporter": "python",
   "pygments_lexer": "ipython3",
   "version": "3.7.3"
  }
 },
 "nbformat": 4,
 "nbformat_minor": 2
}
