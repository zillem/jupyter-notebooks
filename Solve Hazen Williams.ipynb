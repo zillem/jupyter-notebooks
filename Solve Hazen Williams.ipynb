{
 "cells": [
  {
   "cell_type": "code",
   "execution_count": 39,
   "metadata": {},
   "outputs": [],
   "source": [
    "# -*- coding: utf-8 -*-\n",
    "\"\"\"\n",
    "Created on Wed Oct  2 17:46:23 2019\n",
    "@author: W. van Lipzig\n",
    "\"\"\"\n",
    "\n",
    "import math;\n",
    "def line():\n",
    "    print (\"\");\n",
    "'''\n",
    "Hazen Williams\n",
    "\n",
    "p = 6.05e5 * Q^1,85 / (C^1.85 * d^4.87) * L\n",
    "\n",
    "waarin:\n",
    "p is het drukverlies in de leiding, in bar;\n",
    "Q is het debiet door de leiding, in l/min;\n",
    "d is de gemiddelde inwendige diameter van de leiding, in mm;\n",
    "C is een constante voor de uitvoering en kwaliteit van de leiding (zie tabel 22);\n",
    "L is de equivalente lengte van de leiding en hulpstukken, in m.\n",
    "De waarden voor C zoals aangegeven in NEN 12854 tabel 22 moeten worden gebruikt\n",
    "'''\n",
    "'''\n",
    "Q = 400    #liter/minuut\n",
    "C = 120    #Ruwheidsconstante volgens Hazen-Williams\n",
    "d = 70.9   #Inwendige diamter van leiding\n",
    "L = 27.76  #Lengte van leiding in m\n",
    "'''\n",
    "\n",
    "def hazenw(Q, d, L = 1, C = 120):\n",
    "    P = 6.05e5 * Q**1.85 / (C**1.85 * d**4.87) * L;\n",
    "    unitBar = \"Bar\";\n",
    "    unitMbar = \"mBar\";\n",
    "    PmBar = round(P * 1000, 2);\n",
    "    if L == 1:\n",
    "        unitBar = \"Bar/meter\";  \n",
    "        unitMbar = \"mBar/meter\"; \n",
    "    \n",
    "\n",
    "    print(\"Q =\", Q, \"l/min, C =\",C ,\", d_inwendig =\",d, \"mm, L = \", L, \"m\")\n",
    "    print(\"P =\", round(P,3), unitBar,\"= \", round(PmBar,2),unitMbar);\n",
    "    return PmBar;"
   ]
  },
  {
   "cell_type": "markdown",
   "metadata": {},
   "source": [
    "\n",
    "\n",
    "$$p = \\frac{6.05*10^5 * Q^{1.85}}{C^{1.85}*d^{4.87}} $$\n"
   ]
  },
  {
   "cell_type": "code",
   "execution_count": 46,
   "metadata": {},
   "outputs": [
    {
     "name": "stdout",
     "output_type": "stream",
     "text": [
      "Q = 400 l/min, C = 120 , d_inwendig = 70.9 mm, L =  27.76 m\n",
      "P = 0.151 Bar =  151.31 mBar\n",
      "dP_ab = 151.31 mBar\n"
     ]
    }
   ],
   "source": [
    "#dP_ab\n",
    "\n",
    "Q = 400    #liter/minuut\n",
    "C = 120    #Ruwheidsconstante volgens Hazen-Williams\n",
    "d = 70.9   #Inwendige diamter van leiding\n",
    "L = 1  #Lengte van leiding in m\n",
    "dP_ab = hazenw(Q, d, L, C)\n",
    "print (\"dP_ab =\", dP_ab, \"mBar\")\n"
   ]
  },
  {
   "cell_type": "code",
   "execution_count": 48,
   "metadata": {},
   "outputs": [
    {
     "name": "stdout",
     "output_type": "stream",
     "text": [
      "Q = 1000 l/min, C = 120 , d_inwendig = 70.9 mm, L =  1 m\n",
      "P = 0.03 Bar/meter =  29.69 mBar/meter\n",
      "dP_bc = 29.69 mBar\n"
     ]
    }
   ],
   "source": [
    "#dP_bc\n",
    "\n",
    "Q = 1000   #liter/minuut\n",
    "d = 70.9   #Inwendige diamter van leiding  #Lengte van leiding in m\n",
    "d = 70.9   #Inwendige diamter van leiding\n",
    "L = 1  #Lengte van leiding in m\n",
    "dP_bc = hazenw(Q, d, L, C)\n",
    "print (\"dP_bc =\", dP_bc, \"mBar\")\n"
   ]
  },
  {
   "cell_type": "markdown",
   "metadata": {},
   "source": [
    "A -----DN80------- B -----DN100------ C\n",
    "                  "
   ]
  },
  {
   "cell_type": "code",
   "execution_count": 88,
   "metadata": {},
   "outputs": [
    {
     "name": "stdout",
     "output_type": "stream",
     "text": [
      "L_ab + L_bc = 40\n",
      "L_ab = ( 40 - L_bc )\n",
      "\n",
      "dp_ab * L_ab + dp_bc * L_bc = 500 mBar\n",
      "\n",
      "151.31 * L_ab + 29.69 * L_bc = 500 mBar\n",
      "151.31 * (40 - L_bc) + 29.69 * L_bc = 500 mBar\n",
      "6052.4 - 151.31 L_bc + 29.69 L_bc = 500 mBar\n",
      "-121.62 L_bc = -5552.4 mBar\n",
      "L_bc = 45.654 meter\n"
     ]
    }
   ],
   "source": [
    "L_ac = 40 #meter\n",
    "L_ab = \"L_ab\";\n",
    "L_bc = \"L_bc\";\n",
    "print (L_ab, \"+\", L_bc, \"=\", L_ac)\n",
    "print (L_ab, \"= (\", L_ac, \"-\", L_bc,\")\" )\n",
    "line();\n",
    "dp_max = 500;\n",
    "print (\"dp_ab * L_ab + dp_bc * L_bc =\", dp_max, \"mBar\")\n",
    "line();\n",
    "print (dP_ab, \"*\", L_ab, \"+\", dP_bc, \"*\", L_bc, \"=\", dp_max, \"mBar\")\n",
    "L_ab = \"(\"+ str(L_ac)+\" - \"+ L_bc +\")\";\n",
    "print (dP_ab, \"*\", L_ab, \"+\", dP_bc, \"*\", L_bc, \"=\", dp_max, \"mBar\")\n",
    "print (dP_ab * L_ac, \"-\", dP_ab, \"L_bc +\", dP_bc, L_bc, \"=\", dp_max, \"mBar\")\n",
    "print (dP_bc - dP_ab, L_bc, \"=\", dp_max - dP_ab * L_ac , \"mBar\")\n",
    "print (L_bc, \"=\", round((dp_max - dP_ab * L_ac)/(dP_bc - dP_ab),3), \"meter\" )\n"
   ]
  },
  {
   "cell_type": "code",
   "execution_count": null,
   "metadata": {},
   "outputs": [],
   "source": [
    "hazenw(1000, 80)\n",
    "hazenw(1000, 100)"
   ]
  }
 ],
 "metadata": {
  "kernelspec": {
   "display_name": "Python 3",
   "language": "python",
   "name": "python3"
  },
  "language_info": {
   "codemirror_mode": {
    "name": "ipython",
    "version": 3
   },
   "file_extension": ".py",
   "mimetype": "text/x-python",
   "name": "python",
   "nbconvert_exporter": "python",
   "pygments_lexer": "ipython3",
   "version": "3.7.3"
  }
 },
 "nbformat": 4,
 "nbformat_minor": 2
}
